{
 "cells": [
  {
   "cell_type": "code",
   "execution_count": 9,
   "metadata": {},
   "outputs": [],
   "source": [
    "import pickle\n",
    "import numpy as np \n",
    "import pandas as pd \n",
    "from datetime import datetime\n",
    "from datetime import date\n",
    "\n",
    "from sklearn.model_selection import train_test_split\n",
    "from sklearn import preprocessing\n",
    "from sklearn.metrics import mean_squared_error\n",
    "import warnings"
   ]
  },
  {
   "cell_type": "markdown",
   "metadata": {},
   "source": [
    "## Reading and preparing data "
   ]
  },
  {
   "cell_type": "code",
   "execution_count": 10,
   "metadata": {},
   "outputs": [],
   "source": [
    "data = pd.read_csv(\"nba2k20-full.csv\",parse_dates=True)"
   ]
  },
  {
   "cell_type": "markdown",
   "metadata": {},
   "source": [
    "Let's cast all data columns to correct data types"
   ]
  },
  {
   "cell_type": "code",
   "execution_count": 11,
   "metadata": {},
   "outputs": [],
   "source": [
    "data['weight'] = [float(data['weight'][i].split()[3]) for i in range(len(data))]\n",
    "data['height'] = [float(data['height'][i].split()[-1]) for i in range(len(data))]\n",
    "data['salary'] = [int(data['salary'][i].split('$')[1]) for i in range(len(data))]\n",
    "\n",
    "data['b_day'] = data['b_day'].apply(lambda x: datetime.strptime(x, '%m/%d/%y').date())\n",
    "data['age'] = (datetime.today().date() - data['b_day']).astype('<m8[Y]').astype('int64')\n",
    "\n",
    "data['draft_round'] = data['draft_round'].apply(lambda x: 0 if x=='Undrafted' else int(x)) \n",
    "\n",
    "data['team'] = data['team'].fillna('No team')\n"
   ]
  },
  {
   "cell_type": "markdown",
   "metadata": {},
   "source": [
    "## Feature engeneering"
   ]
  },
  {
   "cell_type": "markdown",
   "metadata": {},
   "source": [
    "Dropping some outliers"
   ]
  },
  {
   "cell_type": "code",
   "execution_count": 12,
   "metadata": {},
   "outputs": [],
   "source": [
    "for column in ['weight', 'height']:\n",
    "    upper_lim = data[column].quantile(.95)\n",
    "    lower_lim = data[column].quantile(.05)\n",
    "    data.loc[(data[column] > upper_lim),column] = upper_lim\n",
    "    data.loc[(data[column] < lower_lim),column] = lower_lim\n",
    "for column in ['age', 'rating']:\n",
    "    upper_lim = data[column].quantile(.95)\n",
    "    lower_lim = data[column].quantile(.05)\n",
    "    data.loc[(data[column] > upper_lim),column] = int(upper_lim)\n",
    "    data.loc[(data[column] < lower_lim),column] = int(lower_lim)"
   ]
  },
  {
   "cell_type": "markdown",
   "metadata": {},
   "source": [
    "Union some relative positions and getting dummies of some columns"
   ]
  },
  {
   "cell_type": "code",
   "execution_count": 13,
   "metadata": {},
   "outputs": [],
   "source": [
    "data['position'] = data['position'].apply(lambda x: 'F-C' if x=='C-F' else x)\n",
    "data['position'] = data['position'].apply(lambda x: 'F-G' if x=='G-F' else x)\n",
    "\n",
    "for column in ['team', 'country', 'position', 'draft_round']:\n",
    "    encoded_columns = pd.get_dummies(data[column])\n",
    "    data = data.join(encoded_columns).drop(column, axis=1)"
   ]
  },
  {
   "cell_type": "markdown",
   "metadata": {},
   "source": [
    "Splitting into feature and target datasets"
   ]
  },
  {
   "cell_type": "code",
   "execution_count": 14,
   "metadata": {},
   "outputs": [],
   "source": [
    "data = data.drop(['college', 'full_name', 'b_day', 'jersey', 'draft_peak'], axis=1)\n",
    "y, X = data['salary'], data.drop('salary', axis=1)\n",
    "X = preprocessing.normalize(X)\n"
   ]
  },
  {
   "cell_type": "code",
   "execution_count": 15,
   "metadata": {},
   "outputs": [],
   "source": [
    "np.savetxt(\"nba2k20-full_preprocess.csv\", X[:100], delimiter=\",\")"
   ]
  },
  {
   "cell_type": "markdown",
   "metadata": {},
   "source": [
    "## Prediction values"
   ]
  },
  {
   "cell_type": "markdown",
   "metadata": {},
   "source": [
    "Pretrained model is stored in pickle file, so let's load it and make predictions"
   ]
  },
  {
   "cell_type": "code",
   "execution_count": 16,
   "metadata": {},
   "outputs": [],
   "source": [
    "Pkl_Filename = \"Pickle_Salary_Model.pkl\"\n",
    "warnings.filterwarnings('ignore')\n",
    "\n",
    "with open(Pkl_Filename, 'rb') as file:  \n",
    "    Pickled_LR_Model = pickle.load(file)\n",
    "    \n",
    "y_pred = Pickled_LR_Model.predict(X)\n",
    "\n",
    "with open('new_score', 'w') as file:  \n",
    "    file.write(str(Pickled_LR_Model.score(X, y)))"
   ]
  }
 ],
 "metadata": {
  "kernelspec": {
   "display_name": "Python 3",
   "language": "python",
   "name": "python3"
  },
  "language_info": {
   "codemirror_mode": {
    "name": "ipython",
    "version": 3
   },
   "file_extension": ".py",
   "mimetype": "text/x-python",
   "name": "python",
   "nbconvert_exporter": "python",
   "pygments_lexer": "ipython3",
   "version": "3.7.3"
  }
 },
 "nbformat": 4,
 "nbformat_minor": 2
}
